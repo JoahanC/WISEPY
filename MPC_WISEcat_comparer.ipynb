{
 "cells": [
  {
   "cell_type": "code",
   "execution_count": 3,
   "id": "d5deb86f",
   "metadata": {},
   "outputs": [],
   "source": [
    "import csv \n",
    "import math\n",
    "from astropy.time import Time\n",
    "import pandas as pd\n",
    "import numpy as np"
   ]
  },
  {
   "cell_type": "markdown",
   "id": "852c54c2",
   "metadata": {},
   "source": [
    "Utility functions"
   ]
  },
  {
   "cell_type": "code",
   "execution_count": 4,
   "id": "e1fd5efd",
   "metadata": {},
   "outputs": [],
   "source": [
    "def decimal_day_converter(dec_day):\n",
    "    \"\"\"\n",
    "    Turns a decimal day interpretation into a UTC format.\n",
    "    Parameters: day\n",
    "    Returns: String in the format: 'HH:MM:SS'\n",
    "    \"\"\"\n",
    "    hour_remainder = float(dec_day) * 24\n",
    "    hours = math.floor(hour_remainder)\n",
    "    hours_str = str(hours).zfill(2)\n",
    "    \n",
    "    min_remainder = (hour_remainder - hours) * 60\n",
    "    mins = math.floor(min_remainder)\n",
    "    mins_str = str(mins).zfill(2)\n",
    "    \n",
    "    sec_remainder = (min_remainder - mins) * 60\n",
    "    secs = sec_remainder\n",
    "    secs_str = str(secs).zfill(2)\n",
    "    \n",
    "    \n",
    "    return 'T' + hours_str + ':' + mins_str + ':' + secs_str\n",
    "\n",
    "\n",
    "def n_round(x, n):\n",
    "    \"\"\"\n",
    "    Rounds a float to the nearest n integer\n",
    "    Arguments: x (float) -- number being rounded\n",
    "               n (int) -- number rounding to\n",
    "    Returns: (int) -- rounded number\n",
    "    \"\"\"\n",
    "    return base * round(x/base)"
   ]
  },
  {
   "cell_type": "markdown",
   "id": "67c2ef64",
   "metadata": {},
   "source": [
    "MPC data reading"
   ]
  },
  {
   "cell_type": "code",
   "execution_count": 5,
   "id": "529405dc",
   "metadata": {},
   "outputs": [],
   "source": [
    "def MPC_parser(mpc_file):\n",
    "    read_file = pd.read_csv(mpc_file)\n",
    "    read_file.to_csv ('mpc_file.csv', index=None)\n",
    "    csv_url = 'mpc_file.csv'\n",
    "    dates = []\n",
    "    ids = []\n",
    "    with open(csv_url) as csvfile:\n",
    "        spamreader = csv.reader(csvfile)\n",
    "        for row in spamreader:\n",
    "            row_string = row[0]\n",
    "            id_string = row_string[:15] \n",
    "            ids.append(id_string)\n",
    "            row_string = row_string[15:]\n",
    "            year = row_string[:4]\n",
    "            month = row_string[5:7]\n",
    "            row_string = row_string[8:]\n",
    "            elements = row_string.split()\n",
    "            day = elements[0]\n",
    "            dec_day = day[2:]\n",
    "            time_string = decimal_day_converter(dec_day)\n",
    "            day = day[:2]\n",
    "            date = year+'-'+month+'-'+day+time_string\n",
    "            dates.append(date[:23])\n",
    "    dates = np.array(dates)\n",
    "    return dates"
   ]
  },
  {
   "cell_type": "markdown",
   "id": "8637254d",
   "metadata": {},
   "source": [
    "WISE data reading"
   ]
  },
  {
   "cell_type": "code",
   "execution_count": 6,
   "id": "856dfc5f",
   "metadata": {},
   "outputs": [],
   "source": [
    "from pandas import *\n",
    "def WISE_parser(wise_file):\n",
    "    \n",
    "    data = read_csv(wise_file) \n",
    "    #setting up chart of data\n",
    "    mjd = data['mjd']\n",
    "    mjd_list = []\n",
    "    for i in range(134):\n",
    "        mjd_list.append(str(mjd[i]))\n",
    "    #print(mjd_list)\n",
    "    #Converting MJD to UTC\n",
    "    times = mjd_list\n",
    "    t = Time(times, format='mjd', scale='utc')\n",
    "\n",
    "    #t.scale = 'utc'\n",
    "    modified_time = t.isot\n",
    "    #print(modified_time)\n",
    "\n",
    "    #Adding UTC times to a dictionary\n",
    "    Obs_Dates_dict = {}\n",
    "    #adding mjd to dictionary\n",
    "    Obs_Dates_dict[\"23606 1996 AS1\"] = modified_time\n",
    "    return modified_time"
   ]
  },
  {
   "cell_type": "markdown",
   "id": "c5774509",
   "metadata": {},
   "source": [
    "Rounding utility function"
   ]
  },
  {
   "cell_type": "code",
   "execution_count": 7,
   "id": "c2bb1b69",
   "metadata": {},
   "outputs": [],
   "source": [
    "def base_round(x, base=5):\n",
    "    return base * round(x/base)"
   ]
  },
  {
   "cell_type": "markdown",
   "id": "d0ffefdc",
   "metadata": {},
   "source": [
    "Comparison function between MPC and WISE catalog"
   ]
  },
  {
   "cell_type": "code",
   "execution_count": 10,
   "id": "6d48dcb6",
   "metadata": {},
   "outputs": [],
   "source": [
    "def comparison(mpc_file, wise_file):\n",
    "    \"\"\"\n",
    "    Compares the observational instances between the MPC and WISE dataset files for a given object. ds\n",
    "    Arguments: mpc_file: txt file which contains MPC data\n",
    "                wise_file: file which contains WISE\n",
    "    \"\"\"\n",
    "    \n",
    "    mpc_data = MPC_parser(mpc_file)\n",
    "    wise_data = WISE_parser(wise_file)\n",
    "    print(\"-------------Database Statistics \\n\")\n",
    "    print(\"Epochs observed in the MPC database:\", len(mpc_data))\n",
    "    print(\"Epochs observed in the WISE database:\", len(wise_data))\n",
    "    \n",
    "    # Year trim\n",
    "    wise_years = []\n",
    "    mpc_years = []\n",
    "    trimmed_mpc_data = []\n",
    "    for datum in wise_data:\n",
    "        year = int(datum[:4])\n",
    "        if year not in wise_years:\n",
    "            wise_years.append(year)\n",
    "    for datum in mpc_data:\n",
    "        year = int(datum[:4])\n",
    "        #if year in wise_years:\n",
    "        #    trimmed_mpc_data.append(datum)\n",
    "        if year not in mpc_years:\n",
    "            mpc_years.append(year)\n",
    "    \n",
    "    wise_years_str = \"\"\n",
    "    for year in wise_years:\n",
    "        wise_years_str += str(year) + \", \"\n",
    "    print(\"Years in which WISE data was collected: \" + wise_years_str[:-2])\n",
    "    mpc_years_str = \"\"\n",
    "    for year in mpc_years:\n",
    "        mpc_years_str += str(year) + \", \"\n",
    "    print(\"Years in which MPC data was collected: \" + mpc_years_str[:-2])\n",
    "        \n",
    "    # Comparison sort\n",
    "    rounded_mpc_data = []\n",
    "    rounded_wise_data = []\n",
    "    for datum in mpc_data:\n",
    "        pre_seconds = datum[:17]\n",
    "        seconds = str(base_round(float(datum[17:]))).zfill(2)\n",
    "        rounded_mpc_data.append(pre_seconds + seconds)\n",
    "        \n",
    "    for datum in wise_data:\n",
    "        pre_seconds = datum[:17]\n",
    "        seconds = str(base_round(float(datum[17:]))).zfill(2)\n",
    "        rounded_wise_data.append(pre_seconds + seconds)\n",
    "    \n",
    "    new_epochs = np.array([epoch for epoch in rounded_wise_data if epoch not in rounded_mpc_data])\n",
    "    print(\"New epochs observed in WISE catalog:\", len(new_epochs))\n",
    "    return rounded_mpc_data, rounded_wise_data, new_epochs"
   ]
  },
  {
   "cell_type": "code",
   "execution_count": 11,
   "id": "1150e963",
   "metadata": {},
   "outputs": [
    {
     "name": "stdout",
     "output_type": "stream",
     "text": [
      "Raw Data \n",
      "\n",
      "Epochs observed in the MPC database: 1506\n",
      "Epochs observed in the WISE database: 134\n",
      "Years in which WISE data was collected: 2015\n",
      "Years in which MPC data was collected: 1978, 2003, 2004, 2005, 2008, 2009, 2010, 2014, 2015, 2016, 2020, 2021, 2022\n",
      "New epochs observed in WISE catalog: 65\n"
     ]
    }
   ],
   "source": [
    "mpc_data = '161989.txt'\n",
    "wise_data = 'table_irsa_catalog_search_results-2.csv'\n",
    "mpc_data, wise_data, new_epochs = comparison(mpc_data, wise_data)\n",
    "#print(mpc_data)\n",
    "#print(wise_data)"
   ]
  }
 ],
 "metadata": {
  "kernelspec": {
   "display_name": "Python 3 (ipykernel)",
   "language": "python",
   "name": "python3"
  },
  "language_info": {
   "codemirror_mode": {
    "name": "ipython",
    "version": 3
   },
   "file_extension": ".py",
   "mimetype": "text/x-python",
   "name": "python",
   "nbconvert_exporter": "python",
   "pygments_lexer": "ipython3",
   "version": "3.9.12"
  }
 },
 "nbformat": 4,
 "nbformat_minor": 5
}
