{
 "cells": [
  {
   "cell_type": "code",
   "execution_count": 116,
   "id": "d5deb86f",
   "metadata": {},
   "outputs": [],
   "source": [
    "import csv \n",
    "import math\n",
    "from astropy.time import Time\n",
    "import pandas as pd"
   ]
  },
  {
   "cell_type": "markdown",
   "id": "d0ffefdc",
   "metadata": {},
   "source": [
    "Takes in url to read in table"
   ]
  },
  {
   "cell_type": "code",
   "execution_count": 117,
   "id": "9519f3ce",
   "metadata": {},
   "outputs": [
    {
     "name": "stdout",
     "output_type": "stream",
     "text": [
      "T18:08:38.399999999994066\n"
     ]
    }
   ],
   "source": [
    "def decimal_day_converter(dec_day):\n",
    "    \"\"\"\n",
    "    Turns a decimal day interpretation into a UTC format.\n",
    "    Parameters: day\n",
    "    Returns: String in the format: 'HH:MM:SSSSS'\n",
    "    \"\"\"\n",
    "    hour_remainder = float(dec_day) * 24\n",
    "    hours = math.floor(hour_remainder)\n",
    "    hours_str = str(hours).zfill(2)\n",
    "    \n",
    "    min_remainder = (hour_remainder - hours) * 60\n",
    "    mins = math.floor(min_remainder)\n",
    "    mins_str = str(mins).zfill(2)\n",
    "    \n",
    "    sec_remainder = (min_remainder - mins) * 60\n",
    "    secs = sec_remainder\n",
    "    secs_str = str(secs).zfill(2)\n",
    "    \n",
    "    \n",
    "    return 'T'+hours_str + ':' + mins_str + ':' + secs_str\n",
    "\n",
    "print(decimal_day_converter(.756))"
   ]
  },
  {
   "cell_type": "code",
   "execution_count": 118,
   "id": "adcc856c",
   "metadata": {},
   "outputs": [],
   "source": [
    "read_file = pd.read_csv (r'161989.txt')\n",
    "read_file.to_csv (r'161989.csv', index=None)\n",
    "csv_url = '161989.csv'\n",
    "dates = []\n",
    "ids = []\n",
    "with open(csv_url) as csvfile:\n",
    "    spamreader = csv.reader(csvfile)\n",
    "    for row in spamreader:\n",
    "        row_string = row[0]\n",
    "        id_string = row_string[:15] \n",
    "        ids.append(id_string)\n",
    "        row_string = row_string[15:]\n",
    "        year = row_string[:4]\n",
    "        month = row_string[5:7]\n",
    "        row_string = row_string[8:]\n",
    "        elements = row_string.split()\n",
    "        day = elements[0]\n",
    "        dec_day = day[2:]\n",
    "        time_string = decimal_day_converter(dec_day)\n",
    "        day = day[:2]\n",
    "        date = year+'-'+month+'-'+day+time_string\n",
    "        dates.append(date)\n",
    "\n",
    "objects = {}\n",
    "for idx, id in enumerate(ids):\n",
    "    objects[id] = [dates[idx]]"
   ]
  },
  {
   "cell_type": "code",
   "execution_count": 119,
   "id": "e7c22222",
   "metadata": {},
   "outputs": [],
   "source": [
    "time_con_arr = Time(dates, format='isot', scale='utc')\n",
    "mjd_arr = time_con_arr.mjd"
   ]
  }
 ],
 "metadata": {
  "kernelspec": {
   "display_name": "Python 3 (ipykernel)",
   "language": "python",
   "name": "python3"
  },
  "language_info": {
   "codemirror_mode": {
    "name": "ipython",
    "version": 3
   },
   "file_extension": ".py",
   "mimetype": "text/x-python",
   "name": "python",
   "nbconvert_exporter": "python",
   "pygments_lexer": "ipython3",
   "version": "3.9.12"
  }
 },
 "nbformat": 4,
 "nbformat_minor": 5
}
